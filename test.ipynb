{
 "metadata": {
  "language_info": {
   "codemirror_mode": {
    "name": "ipython",
    "version": 3
   },
   "file_extension": ".py",
   "mimetype": "text/x-python",
   "name": "python",
   "nbconvert_exporter": "python",
   "pygments_lexer": "ipython3",
   "version": "3.8.7-final"
  },
  "orig_nbformat": 2,
  "kernelspec": {
   "name": "python3",
   "display_name": "Python 3.8.7 64-bit ('venv')",
   "metadata": {
    "interpreter": {
     "hash": "e77805fe4c4ad35605d38ab5905a90a0abe9d1eba7654f564bd3bdc902a2ae37"
    }
   }
  }
 },
 "nbformat": 4,
 "nbformat_minor": 2,
 "cells": [
  {
   "cell_type": "code",
   "execution_count": 1,
   "metadata": {},
   "outputs": [],
   "source": [
    "from deeploy import Client, DeployOptions "
   ]
  },
  {
   "source": [
    "## Initialise Deeploy"
   ],
   "cell_type": "markdown",
   "metadata": {}
  },
  {
   "cell_type": "code",
   "execution_count": 2,
   "metadata": {},
   "outputs": [],
   "source": [
    "client_options = {\n",
    "    'access_key': 'AKIAYTKJI1RK3TYI1XUG',\n",
    "    'secret_key': 'l2qBUUPg3Tb2fiNLhoeaNbb26AbHFqooB3o07Avz',\n",
    "    'host': 'ute.deeploy.ml',\n",
    "    'workspace_id': 'ac8c6126-6782-11ea-bc55-0242ac130003',\n",
    "    'local_repository_path': '/Users/larssuanet/Documents/deeploy/sample_models/deeploy-client-test',\n",
    "}\n",
    "client = Client(**client_options)"
   ]
  },
  {
   "source": [
    "## Train model"
   ],
   "cell_type": "markdown",
   "metadata": {}
  },
  {
   "cell_type": "code",
   "execution_count": 3,
   "metadata": {},
   "outputs": [
    {
     "output_type": "execute_result",
     "data": {
      "text/plain": [
       "KNeighborsClassifier()"
      ]
     },
     "metadata": {},
     "execution_count": 3
    }
   ],
   "source": [
    "import sklearn\n",
    "import shap\n",
    "\n",
    "X,y = shap.datasets.adult()\n",
    "X_display,y_display = shap.datasets.adult(display=True)\n",
    "X_train, X_valid, y_train, y_valid = sklearn.model_selection.train_test_split(X, y, test_size=0.2, random_state=7)\n",
    "\n",
    "knn = sklearn.neighbors.KNeighborsClassifier()\n",
    "knn.fit(X_train, y_train)"
   ]
  },
  {
   "source": [
    "## Create explainer"
   ],
   "cell_type": "markdown",
   "metadata": {}
  },
  {
   "cell_type": "code",
   "execution_count": 4,
   "metadata": {},
   "outputs": [],
   "source": [
    "f = lambda x: knn.predict_proba(x)[:,1]\n",
    "med = X_train.median().values.reshape((1,X_train.shape[1]))\n",
    "explainer = shap.KernelExplainer(f, med)"
   ]
  },
  {
   "source": [
    "## Deploy model and explainer to Deeploy"
   ],
   "cell_type": "markdown",
   "metadata": {}
  },
  {
   "cell_type": "code",
   "execution_count": 5,
   "metadata": {},
   "outputs": [
    {
     "output_type": "stream",
     "name": "stderr",
     "text": [
      "WARNING:git.remote:Git informed while fetching: git config pull.rebase false  # merge (the default strategy)\n"
     ]
    },
    {
     "output_type": "execute_result",
     "data": {
      "text/plain": [
       "Deployment(commit_id='5e278ae9-1809-45fc-84c9-e107180eb53d', name='client test', workspace_id='ac8c6126-6782-11ea-bc55-0242ac130003', description='the first test', example_input=None, example_output=None, model_type=<ModelType.SKLEARN: 2>, model_class_name=None, method=<PredictionMethod.PREDICT: 'predict'>, model_serverless=False, explainer_type=<ExplainerType.SHAP_KERNEL: 4>, explainer_serverless=False, status=4, is_archived=False, s3_link='ac8c6126-6782-11ea-bc55-0242ac130003/repositories/9b4f2a96-0da0-4d2c-8b14-595c2ddcecc1/commits/5e278ae9-1809-45fc-84c9-e107180eb53d', owner_id='a17c0049-043e-4730-aa5c-30c75a1914fc', repository_id='9b4f2a96-0da0-4d2c-8b14-595c2ddcecc1', kf_serving_id=None, public_url=None, id='4dd4b0fe-04bd-4df1-9887-e52391f94fe0', created_at='2021-02-17T15:23:28.411Z', updated_at='2021-02-17T15:23:28.411Z')"
      ]
     },
     "metadata": {},
     "execution_count": 5
    }
   ],
   "source": [
    "deploy_options = {\n",
    "    'model': knn, \n",
    "    'options': DeployOptions(**{\n",
    "        'name': 'client test',\n",
    "        'model_serverless': False,\n",
    "        'explainer_serverless': False,\n",
    "        'description': 'the first test',\n",
    "    }), \n",
    "    'explainer': explainer,\n",
    "}\n",
    "client.deploy(**deploy_options)"
   ]
  },
  {
   "cell_type": "code",
   "execution_count": null,
   "metadata": {},
   "outputs": [],
   "source": []
  }
 ]
}