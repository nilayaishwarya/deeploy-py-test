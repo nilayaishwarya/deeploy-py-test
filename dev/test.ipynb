{
 "metadata": {
  "language_info": {
   "codemirror_mode": {
    "name": "ipython",
    "version": 3
   },
   "file_extension": ".py",
   "mimetype": "text/x-python",
   "name": "python",
   "nbconvert_exporter": "python",
   "pygments_lexer": "ipython3",
   "version": "3.8.7-final"
  },
  "orig_nbformat": 2,
  "kernelspec": {
   "name": "python3",
   "display_name": "Python 3.8.7 64-bit ('venv')",
   "metadata": {
    "interpreter": {
     "hash": "e77805fe4c4ad35605d38ab5905a90a0abe9d1eba7654f564bd3bdc902a2ae37"
    }
   }
  }
 },
 "nbformat": 4,
 "nbformat_minor": 2,
 "cells": [
  {
   "cell_type": "code",
   "execution_count": 1,
   "metadata": {},
   "outputs": [],
   "source": [
    "from deeploy import Client, DeployOptions "
   ]
  },
  {
   "source": [
    "## Initialise Deeploy"
   ],
   "cell_type": "markdown",
   "metadata": {}
  },
  {
   "cell_type": "code",
   "execution_count": 2,
   "metadata": {},
   "outputs": [],
   "source": [
    "client_options = {\n",
    "    'access_key': 'AKIAYTKJI1RK3TYI1XUG',\n",
    "    'secret_key': 'l2qBUUPg3Tb2fiNLhoeaNbb26AbHFqooB3o07Avz',\n",
    "    'host': 'ute.deeploy.ml',\n",
    "    'workspace_id': 'ac8c6126-6782-11ea-bc55-0242ac130003',\n",
    "    'local_repository_path': '/Users/larssuanet/Documents/deeploy/sample_models/deeploy-client-test',\n",
    "}\n",
    "client = Client(**client_options)"
   ]
  },
  {
   "source": [
    "## Train model"
   ],
   "cell_type": "markdown",
   "metadata": {}
  },
  {
   "cell_type": "code",
   "execution_count": 3,
   "metadata": {},
   "outputs": [
    {
     "output_type": "execute_result",
     "data": {
      "text/plain": [
       "KNeighborsClassifier()"
      ]
     },
     "metadata": {},
     "execution_count": 3
    }
   ],
   "source": [
    "import sklearn\n",
    "import shap\n",
    "\n",
    "X,y = shap.datasets.adult()\n",
    "X_display,y_display = shap.datasets.adult(display=True)\n",
    "X_train, X_valid, y_train, y_valid = sklearn.model_selection.train_test_split(X, y, test_size=0.2, random_state=7)\n",
    "\n",
    "knn = sklearn.neighbors.KNeighborsClassifier()\n",
    "knn.fit(X_train, y_train)"
   ]
  },
  {
   "source": [
    "## Create explainer"
   ],
   "cell_type": "markdown",
   "metadata": {}
  },
  {
   "cell_type": "code",
   "execution_count": 4,
   "metadata": {},
   "outputs": [],
   "source": [
    "f = lambda x: knn.predict_proba(x)[:,1]\n",
    "med = X_train.median().values.reshape((1,X_train.shape[1]))\n",
    "explainer = shap.KernelExplainer(f, med)"
   ]
  },
  {
   "source": [
    "## Deploy model and explainer to Deeploy"
   ],
   "cell_type": "markdown",
   "metadata": {}
  },
  {
   "cell_type": "code",
   "execution_count": 5,
   "metadata": {},
   "outputs": [
    {
     "output_type": "stream",
     "name": "stderr",
     "text": [
      "WARNING:git.remote:Git informed while fetching: git config pull.rebase false  # merge (the default strategy)\n"
     ]
    },
    {
     "output_type": "execute_result",
     "data": {
      "text/plain": [
       "Deployment(commit_id='11861532-1ae1-4d99-941a-de2837cc3bfe', name='client test', workspace_id='ac8c6126-6782-11ea-bc55-0242ac130003', description='the first test', example_input=None, example_output=None, model_type=<ModelType.SKLEARN: 2>, model_class_name=None, method=<PredictionMethod.PREDICT: 'predict'>, model_serverless=False, explainer_type=<ExplainerType.SHAP_KERNEL: 4>, explainer_serverless=False, status=4, is_archived=False, s3_link='ac8c6126-6782-11ea-bc55-0242ac130003/repositories/9b4f2a96-0da0-4d2c-8b14-595c2ddcecc1/commits/11861532-1ae1-4d99-941a-de2837cc3bfe', owner_id='a17c0049-043e-4730-aa5c-30c75a1914fc', repository_id='9b4f2a96-0da0-4d2c-8b14-595c2ddcecc1', kf_serving_id=None, public_url=None, id='c122b939-da68-431d-8eec-4797271243b4', created_at='2021-02-17T15:51:34.427Z', updated_at='2021-02-17T15:51:34.427Z')"
      ]
     },
     "metadata": {},
     "execution_count": 5
    }
   ],
   "source": [
    "deploy_options = {\n",
    "    'model': knn, \n",
    "    'options': DeployOptions(**{\n",
    "        'name': 'client test',\n",
    "        'model_serverless': False,\n",
    "        'explainer_serverless': False,\n",
    "        'description': 'the first test',\n",
    "    }), \n",
    "    'explainer': explainer,\n",
    "}\n",
    "client.deploy(**deploy_options)"
   ]
  },
  {
   "source": [
    "## XGBoost\n"
   ],
   "cell_type": "markdown",
   "metadata": {}
  },
  {
   "cell_type": "code",
   "execution_count": 3,
   "metadata": {},
   "outputs": [
    {
     "output_type": "stream",
     "name": "stderr",
     "text": [
      "WARNING:git.remote:Git informed while fetching: git config pull.rebase false  # merge (the default strategy)\n"
     ]
    },
    {
     "output_type": "execute_result",
     "data": {
      "text/plain": [
       "Deployment(commit_id='cc55b79b-1282-4b06-a20e-68601d11d341', name='client test xgboost', workspace_id='ac8c6126-6782-11ea-bc55-0242ac130003', description='the first test', example_input=None, example_output=None, model_type=<ModelType.XGBOOST: 3>, model_class_name=None, method=<PredictionMethod.PREDICT: 'predict'>, model_serverless=False, explainer_type=<ExplainerType.NO_EXPLAINER: 0>, explainer_serverless=False, status=4, is_archived=False, s3_link='ac8c6126-6782-11ea-bc55-0242ac130003/repositories/9b4f2a96-0da0-4d2c-8b14-595c2ddcecc1/commits/cc55b79b-1282-4b06-a20e-68601d11d341', owner_id='a17c0049-043e-4730-aa5c-30c75a1914fc', repository_id='9b4f2a96-0da0-4d2c-8b14-595c2ddcecc1', kf_serving_id=None, public_url=None, id='bd3361a8-c7f2-4ff4-84be-47edad7390f6', created_at='2021-02-18T10:58:07.756Z', updated_at='2021-02-18T10:58:07.756Z')"
      ]
     },
     "metadata": {},
     "execution_count": 3
    }
   ],
   "source": [
    "import xgboost as xgb\n",
    "from sklearn.datasets import load_iris\n",
    "\n",
    "iris = load_iris()\n",
    "y = iris['target']\n",
    "X = iris['data']\n",
    "dtrain = xgb.DMatrix(X, label=y)\n",
    "param = {'max_depth': 6,\n",
    "            'eta': 0.1,\n",
    "            'silent': 1,\n",
    "            'nthread': 4,\n",
    "            'num_class': 10,\n",
    "            'objective': 'multi:softmax'\n",
    "            }\n",
    "xgb_model = xgb.train(params=param, dtrain=dtrain)\n",
    "\n",
    "deploy_options = {\n",
    "    'model': xgb_model, \n",
    "    'options': DeployOptions(**{\n",
    "        'name': 'client test xgboost',\n",
    "        'model_serverless': False,\n",
    "        'explainer_serverless': False,\n",
    "        'description': 'the first test',\n",
    "    }),\n",
    "    'overwrite': True,\n",
    "}\n",
    "client.deploy(**deploy_options)"
   ]
  },
  {
   "source": [
    "## Pytorch"
   ],
   "cell_type": "markdown",
   "metadata": {}
  },
  {
   "source": [
    "import torch\n",
    "import torch.nn as nn\n",
    "import torch.nn.functional as F\n",
    "import torch.optim as optim\n",
    "import torchvision\n",
    "import torchvision.transforms as transforms\n",
    "\n",
    "class Net(nn.Module):\n",
    "    def __init__(self):\n",
    "        super(Net, self).__init__()\n",
    "        self.conv1 = nn.Conv2d(3, 6, 5)\n",
    "        self.pool = nn.MaxPool2d(2, 2)\n",
    "        self.conv2 = nn.Conv2d(6, 16, 5)\n",
    "        self.fc1 = nn.Linear(16 * 5 * 5, 120)\n",
    "        self.fc2 = nn.Linear(120, 84)\n",
    "        self.fc3 = nn.Linear(84, 10)\n",
    "\n",
    "    def forward(self, x):\n",
    "        x = self.pool(F.relu(self.conv1(x)))\n",
    "        x = self.pool(F.relu(self.conv2(x)))\n",
    "        x = x.view(-1, 16 * 5 * 5)\n",
    "        x = F.relu(self.fc1(x))\n",
    "        x = F.relu(self.fc2(x))\n",
    "        x = self.fc3(x)\n",
    "        return x\n",
    "\n",
    "transform = transforms.Compose(\n",
    "    [transforms.ToTensor(),\n",
    "    transforms.Normalize((0.5, 0.5, 0.5), (0.5, 0.5, 0.5))])\n",
    "\n",
    "trainset = torchvision.datasets.CIFAR10(root='./data', train=True,\n",
    "                                        download=True, transform=transform)\n",
    "trainloader = torch.utils.data.DataLoader(trainset, batch_size=4,\n",
    "                                            shuffle=True, num_workers=2)\n",
    "\n",
    "testset = torchvision.datasets.CIFAR10(root='./data', train=False,\n",
    "                                        download=True, transform=transform)\n",
    "testloader = torch.utils.data.DataLoader(testset, batch_size=4,\n",
    "                                            shuffle=False, num_workers=2)\n",
    "\n",
    "classes = ('plane', 'car', 'bird', 'cat',\n",
    "            'deer', 'dog', 'frog', 'horse', 'ship', 'truck')\n",
    "\n",
    "net = Net()\n",
    "\n",
    "criterion = nn.CrossEntropyLoss()\n",
    "optimizer = optim.SGD(net.parameters(), lr=0.001, momentum=0.9)\n",
    "\n",
    "for epoch in range(2):  # loop over the dataset multiple times\n",
    "\n",
    "    running_loss = 0.0\n",
    "    for i, data in enumerate(trainloader, 0):\n",
    "        # get the inputs; data is a list of [inputs, labels]\n",
    "        inputs, labels = data\n",
    "\n",
    "        # zero the parameter gradients\n",
    "        optimizer.zero_grad()\n",
    "\n",
    "            # forward + backward + optimize\n",
    "        outputs = net(inputs)\n",
    "        loss = criterion(outputs, labels)\n",
    "        loss.backward()\n",
    "        optimizer.step()\n",
    "\n",
    "        # print statistics\n",
    "        running_loss += loss.item()\n",
    "        if i % 2000 == 1999:    # print every 2000 mini-batches\n",
    "            print('[%d, %5d] loss: %.3f' %\n",
    "                    (epoch + 1, i + 1, running_loss / 2000))\n",
    "            running_loss = 0.0\n",
    "    \n",
    "deploy_options = {\n",
    "    'model': net, \n",
    "    'options': DeployOptions(**{\n",
    "        'name': 'client test pytorch',\n",
    "        'model_serverless': False,\n",
    "        'explainer_serverless': False,\n",
    "        'description': 'the first test',\n",
    "        'model_class_name': 'Net',\n",
    "        'pytorch_model_file_path': '/Users/larssuanet/Documents/deeploy/deeploy-python-client/model.py',\n",
    "    }),\n",
    "    'overwrite': True,\n",
    "}\n",
    "client.deploy(**deploy_options)"
   ],
   "cell_type": "code",
   "metadata": {},
   "execution_count": 3,
   "outputs": [
    {
     "output_type": "stream",
     "name": "stdout",
     "text": [
      "Files already downloaded and verified\n",
      "Files already downloaded and verified\n",
      "[1,  2000] loss: 2.219\n",
      "[1,  4000] loss: 1.860\n",
      "[1,  6000] loss: 1.681\n",
      "[1,  8000] loss: 1.580\n",
      "[1, 10000] loss: 1.510\n",
      "[1, 12000] loss: 1.474\n",
      "[2,  2000] loss: 1.382\n",
      "[2,  4000] loss: 1.347\n",
      "[2,  6000] loss: 1.317\n",
      "[2,  8000] loss: 1.315\n",
      "[2, 10000] loss: 1.283\n",
      "[2, 12000] loss: 1.260\n",
      "WARNING:git.remote:Git informed while fetching: git config pull.rebase false  # merge (the default strategy)\n"
     ]
    },
    {
     "output_type": "error",
     "ename": "KeyError",
     "evalue": "'data'",
     "traceback": [
      "\u001b[0;31m---------------------------------------------------------------------------\u001b[0m",
      "\u001b[0;31mKeyError\u001b[0m                                  Traceback (most recent call last)",
      "\u001b[0;32m<ipython-input-3-6c10f6d2d723>\u001b[0m in \u001b[0;36m<module>\u001b[0;34m\u001b[0m\n\u001b[1;32m     82\u001b[0m     \u001b[0;34m'overwrite'\u001b[0m\u001b[0;34m:\u001b[0m \u001b[0;32mTrue\u001b[0m\u001b[0;34m,\u001b[0m\u001b[0;34m\u001b[0m\u001b[0;34m\u001b[0m\u001b[0m\n\u001b[1;32m     83\u001b[0m }\n\u001b[0;32m---> 84\u001b[0;31m \u001b[0mclient\u001b[0m\u001b[0;34m.\u001b[0m\u001b[0mdeploy\u001b[0m\u001b[0;34m(\u001b[0m\u001b[0;34m**\u001b[0m\u001b[0mdeploy_options\u001b[0m\u001b[0;34m)\u001b[0m\u001b[0;34m\u001b[0m\u001b[0;34m\u001b[0m\u001b[0m\n\u001b[0m",
      "\u001b[0;32m~/Documents/deeploy/deeploy-python-client/deeploy/deeploy.py\u001b[0m in \u001b[0;36mdeploy\u001b[0;34m(self, model, options, explainer, overwrite, commit_message)\u001b[0m\n\u001b[1;32m    118\u001b[0m         }\n\u001b[1;32m    119\u001b[0m \u001b[0;34m\u001b[0m\u001b[0m\n\u001b[0;32m--> 120\u001b[0;31m         deployment = self.__deeploy_service.create_deployment(\n\u001b[0m\u001b[1;32m    121\u001b[0m             self.__config.workspace_id, CreateDeployment(**deployment_options))\n\u001b[1;32m    122\u001b[0m \u001b[0;34m\u001b[0m\u001b[0m\n",
      "\u001b[0;32m~/Documents/deeploy/deeploy-python-client/deeploy/services/deeploy_service.py\u001b[0m in \u001b[0;36mcreate_deployment\u001b[0;34m(self, workspace_id, deployment)\u001b[0m\n\u001b[1;32m     76\u001b[0m \u001b[0;34m\u001b[0m\u001b[0m\n\u001b[1;32m     77\u001b[0m         deployment = parse_obj_as(\n\u001b[0;32m---> 78\u001b[0;31m             Deployment, deployment_response.json()['data'])\n\u001b[0m\u001b[1;32m     79\u001b[0m \u001b[0;34m\u001b[0m\u001b[0m\n\u001b[1;32m     80\u001b[0m         \u001b[0;32mreturn\u001b[0m \u001b[0mdeployment\u001b[0m\u001b[0;34m\u001b[0m\u001b[0;34m\u001b[0m\u001b[0m\n",
      "\u001b[0;31mKeyError\u001b[0m: 'data'"
     ]
    }
   ]
  },
  {
   "cell_type": "code",
   "execution_count": 6,
   "metadata": {},
   "outputs": [
    {
     "output_type": "stream",
     "name": "stdout",
     "text": [
      "['__main__.Net', 'torch.nn.modules.module.Module', 'builtins.object']\n"
     ]
    }
   ],
   "source": [
    "import inspect\n",
    "\n",
    "base_classes = list(map(lambda x: x.__module__ + '.' +\n",
    "                                x.__name__, inspect.getmro(type(net))))\n",
    "print(base_classes)"
   ]
  },
  {
   "cell_type": "code",
   "execution_count": 10,
   "metadata": {},
   "outputs": [
    {
     "output_type": "error",
     "ename": "TypeError",
     "evalue": "module, class, method, function, traceback, frame, or code object was expected, got NoneType",
     "traceback": [
      "\u001b[0;31m---------------------------------------------------------------------------\u001b[0m",
      "\u001b[0;31mTypeError\u001b[0m                                 Traceback (most recent call last)",
      "\u001b[0;32m<ipython-input-10-c39c56827e64>\u001b[0m in \u001b[0;36m<module>\u001b[0;34m\u001b[0m\n\u001b[1;32m      2\u001b[0m \u001b[0;32mimport\u001b[0m \u001b[0msys\u001b[0m\u001b[0;34m\u001b[0m\u001b[0;34m\u001b[0m\u001b[0m\n\u001b[1;32m      3\u001b[0m \u001b[0;34m\u001b[0m\u001b[0m\n\u001b[0;32m----> 4\u001b[0;31m \u001b[0mprint\u001b[0m\u001b[0;34m(\u001b[0m\u001b[0minspect\u001b[0m\u001b[0;34m.\u001b[0m\u001b[0mgetsource\u001b[0m\u001b[0;34m(\u001b[0m\u001b[0minspect\u001b[0m\u001b[0;34m.\u001b[0m\u001b[0mgetmodule\u001b[0m\u001b[0;34m(\u001b[0m\u001b[0minspect\u001b[0m\u001b[0;34m.\u001b[0m\u001b[0mcurrentframe\u001b[0m\u001b[0;34m(\u001b[0m\u001b[0;34m)\u001b[0m\u001b[0;34m)\u001b[0m\u001b[0;34m)\u001b[0m\u001b[0;34m)\u001b[0m\u001b[0;34m\u001b[0m\u001b[0;34m\u001b[0m\u001b[0m\n\u001b[0m",
      "\u001b[0;32m/usr/local/Cellar/python@3.8/3.8.7_2/Frameworks/Python.framework/Versions/3.8/lib/python3.8/inspect.py\u001b[0m in \u001b[0;36mgetsource\u001b[0;34m(object)\u001b[0m\n\u001b[1;32m    995\u001b[0m     \u001b[0;32mor\u001b[0m \u001b[0mcode\u001b[0m \u001b[0mobject\u001b[0m\u001b[0;34m.\u001b[0m  \u001b[0mThe\u001b[0m \u001b[0msource\u001b[0m \u001b[0mcode\u001b[0m \u001b[0;32mis\u001b[0m \u001b[0mreturned\u001b[0m \u001b[0;32mas\u001b[0m \u001b[0ma\u001b[0m \u001b[0msingle\u001b[0m \u001b[0mstring\u001b[0m\u001b[0;34m.\u001b[0m  \u001b[0mAn\u001b[0m\u001b[0;34m\u001b[0m\u001b[0;34m\u001b[0m\u001b[0m\n\u001b[1;32m    996\u001b[0m     OSError is raised if the source code cannot be retrieved.\"\"\"\n\u001b[0;32m--> 997\u001b[0;31m     \u001b[0mlines\u001b[0m\u001b[0;34m,\u001b[0m \u001b[0mlnum\u001b[0m \u001b[0;34m=\u001b[0m \u001b[0mgetsourcelines\u001b[0m\u001b[0;34m(\u001b[0m\u001b[0mobject\u001b[0m\u001b[0;34m)\u001b[0m\u001b[0;34m\u001b[0m\u001b[0;34m\u001b[0m\u001b[0m\n\u001b[0m\u001b[1;32m    998\u001b[0m     \u001b[0;32mreturn\u001b[0m \u001b[0;34m''\u001b[0m\u001b[0;34m.\u001b[0m\u001b[0mjoin\u001b[0m\u001b[0;34m(\u001b[0m\u001b[0mlines\u001b[0m\u001b[0;34m)\u001b[0m\u001b[0;34m\u001b[0m\u001b[0;34m\u001b[0m\u001b[0m\n\u001b[1;32m    999\u001b[0m \u001b[0;34m\u001b[0m\u001b[0m\n",
      "\u001b[0;32m/usr/local/Cellar/python@3.8/3.8.7_2/Frameworks/Python.framework/Versions/3.8/lib/python3.8/inspect.py\u001b[0m in \u001b[0;36mgetsourcelines\u001b[0;34m(object)\u001b[0m\n\u001b[1;32m    977\u001b[0m     raised if the source code cannot be retrieved.\"\"\"\n\u001b[1;32m    978\u001b[0m     \u001b[0mobject\u001b[0m \u001b[0;34m=\u001b[0m \u001b[0munwrap\u001b[0m\u001b[0;34m(\u001b[0m\u001b[0mobject\u001b[0m\u001b[0;34m)\u001b[0m\u001b[0;34m\u001b[0m\u001b[0;34m\u001b[0m\u001b[0m\n\u001b[0;32m--> 979\u001b[0;31m     \u001b[0mlines\u001b[0m\u001b[0;34m,\u001b[0m \u001b[0mlnum\u001b[0m \u001b[0;34m=\u001b[0m \u001b[0mfindsource\u001b[0m\u001b[0;34m(\u001b[0m\u001b[0mobject\u001b[0m\u001b[0;34m)\u001b[0m\u001b[0;34m\u001b[0m\u001b[0;34m\u001b[0m\u001b[0m\n\u001b[0m\u001b[1;32m    980\u001b[0m \u001b[0;34m\u001b[0m\u001b[0m\n\u001b[1;32m    981\u001b[0m     \u001b[0;32mif\u001b[0m \u001b[0mistraceback\u001b[0m\u001b[0;34m(\u001b[0m\u001b[0mobject\u001b[0m\u001b[0;34m)\u001b[0m\u001b[0;34m:\u001b[0m\u001b[0;34m\u001b[0m\u001b[0;34m\u001b[0m\u001b[0m\n",
      "\u001b[0;32m/usr/local/Cellar/python@3.8/3.8.7_2/Frameworks/Python.framework/Versions/3.8/lib/python3.8/inspect.py\u001b[0m in \u001b[0;36mfindsource\u001b[0;34m(object)\u001b[0m\n\u001b[1;32m    778\u001b[0m     is raised if the source code cannot be retrieved.\"\"\"\n\u001b[1;32m    779\u001b[0m \u001b[0;34m\u001b[0m\u001b[0m\n\u001b[0;32m--> 780\u001b[0;31m     \u001b[0mfile\u001b[0m \u001b[0;34m=\u001b[0m \u001b[0mgetsourcefile\u001b[0m\u001b[0;34m(\u001b[0m\u001b[0mobject\u001b[0m\u001b[0;34m)\u001b[0m\u001b[0;34m\u001b[0m\u001b[0;34m\u001b[0m\u001b[0m\n\u001b[0m\u001b[1;32m    781\u001b[0m     \u001b[0;32mif\u001b[0m \u001b[0mfile\u001b[0m\u001b[0;34m:\u001b[0m\u001b[0;34m\u001b[0m\u001b[0;34m\u001b[0m\u001b[0m\n\u001b[1;32m    782\u001b[0m         \u001b[0;31m# Invalidate cache if needed.\u001b[0m\u001b[0;34m\u001b[0m\u001b[0;34m\u001b[0m\u001b[0;34m\u001b[0m\u001b[0m\n",
      "\u001b[0;32m/usr/local/Cellar/python@3.8/3.8.7_2/Frameworks/Python.framework/Versions/3.8/lib/python3.8/inspect.py\u001b[0m in \u001b[0;36mgetsourcefile\u001b[0;34m(object)\u001b[0m\n\u001b[1;32m    694\u001b[0m     \u001b[0mReturn\u001b[0m \u001b[0;32mNone\u001b[0m \u001b[0;32mif\u001b[0m \u001b[0mno\u001b[0m \u001b[0mway\u001b[0m \u001b[0mcan\u001b[0m \u001b[0mbe\u001b[0m \u001b[0midentified\u001b[0m \u001b[0mto\u001b[0m \u001b[0mget\u001b[0m \u001b[0mthe\u001b[0m \u001b[0msource\u001b[0m\u001b[0;34m.\u001b[0m\u001b[0;34m\u001b[0m\u001b[0;34m\u001b[0m\u001b[0m\n\u001b[1;32m    695\u001b[0m     \"\"\"\n\u001b[0;32m--> 696\u001b[0;31m     \u001b[0mfilename\u001b[0m \u001b[0;34m=\u001b[0m \u001b[0mgetfile\u001b[0m\u001b[0;34m(\u001b[0m\u001b[0mobject\u001b[0m\u001b[0;34m)\u001b[0m\u001b[0;34m\u001b[0m\u001b[0;34m\u001b[0m\u001b[0m\n\u001b[0m\u001b[1;32m    697\u001b[0m     \u001b[0mall_bytecode_suffixes\u001b[0m \u001b[0;34m=\u001b[0m \u001b[0mimportlib\u001b[0m\u001b[0;34m.\u001b[0m\u001b[0mmachinery\u001b[0m\u001b[0;34m.\u001b[0m\u001b[0mDEBUG_BYTECODE_SUFFIXES\u001b[0m\u001b[0;34m[\u001b[0m\u001b[0;34m:\u001b[0m\u001b[0;34m]\u001b[0m\u001b[0;34m\u001b[0m\u001b[0;34m\u001b[0m\u001b[0m\n\u001b[1;32m    698\u001b[0m     \u001b[0mall_bytecode_suffixes\u001b[0m \u001b[0;34m+=\u001b[0m \u001b[0mimportlib\u001b[0m\u001b[0;34m.\u001b[0m\u001b[0mmachinery\u001b[0m\u001b[0;34m.\u001b[0m\u001b[0mOPTIMIZED_BYTECODE_SUFFIXES\u001b[0m\u001b[0;34m[\u001b[0m\u001b[0;34m:\u001b[0m\u001b[0;34m]\u001b[0m\u001b[0;34m\u001b[0m\u001b[0;34m\u001b[0m\u001b[0m\n",
      "\u001b[0;32m/usr/local/Cellar/python@3.8/3.8.7_2/Frameworks/Python.framework/Versions/3.8/lib/python3.8/inspect.py\u001b[0m in \u001b[0;36mgetfile\u001b[0;34m(object)\u001b[0m\n\u001b[1;32m    674\u001b[0m     \u001b[0;32mif\u001b[0m \u001b[0miscode\u001b[0m\u001b[0;34m(\u001b[0m\u001b[0mobject\u001b[0m\u001b[0;34m)\u001b[0m\u001b[0;34m:\u001b[0m\u001b[0;34m\u001b[0m\u001b[0;34m\u001b[0m\u001b[0m\n\u001b[1;32m    675\u001b[0m         \u001b[0;32mreturn\u001b[0m \u001b[0mobject\u001b[0m\u001b[0;34m.\u001b[0m\u001b[0mco_filename\u001b[0m\u001b[0;34m\u001b[0m\u001b[0;34m\u001b[0m\u001b[0m\n\u001b[0;32m--> 676\u001b[0;31m     raise TypeError('module, class, method, function, traceback, frame, or '\n\u001b[0m\u001b[1;32m    677\u001b[0m                     'code object was expected, got {}'.format(\n\u001b[1;32m    678\u001b[0m                     type(object).__name__))\n",
      "\u001b[0;31mTypeError\u001b[0m: module, class, method, function, traceback, frame, or code object was expected, got NoneType"
     ]
    }
   ],
   "source": [
    "import inspect\n",
    "import sys\n",
    "\n",
    "print(inspect.getsource(inspect.getmodule(inspect.currentframe())))"
   ]
  },
  {
   "source": [
    "## TensorFlow & Alibi AnchorImage"
   ],
   "cell_type": "markdown",
   "metadata": {}
  },
  {
   "cell_type": "code",
   "execution_count": 6,
   "metadata": {},
   "outputs": [
    {
     "output_type": "stream",
     "name": "stdout",
     "text": [
      "Epoch 1/3\n",
      "938/938 [==============================] - 40s 42ms/step - loss: 0.8036 - accuracy: 0.7012\n",
      "Epoch 2/3\n",
      "938/938 [==============================] - 40s 43ms/step - loss: 0.4309 - accuracy: 0.8418\n",
      "Epoch 3/3\n",
      "938/938 [==============================] - 38s 41ms/step - loss: 0.3767 - accuracy: 0.8649\n",
      "WARNING:git.remote:Git informed while fetching: git config pull.rebase false  # merge (the default strategy)\n",
      "INFO:tensorflow:Assets written to: /Users/larssuanet/Documents/deeploy/sample_models/deeploy-client-test/model/1/assets\n",
      "INFO:tensorflow:Assets written to: /Users/larssuanet/Documents/deeploy/sample_models/deeploy-client-test/model/1/assets\n"
     ]
    },
    {
     "output_type": "execute_result",
     "data": {
      "text/plain": [
       "Deployment(commit_id='976b4f7d-0ebd-44ce-999c-b1e2b2b32343', name='client test tensorflow alibi', workspace_id='ac8c6126-6782-11ea-bc55-0242ac130003', description='the first test', example_input=None, example_output=None, model_type=<ModelType.TENSORFLOW: 0>, model_class_name=None, method=<PredictionMethod.PREDICT: 'predict'>, model_serverless=False, explainer_type=<ExplainerType.NO_EXPLAINER: 0>, explainer_serverless=False, status=4, is_archived=False, s3_link='ac8c6126-6782-11ea-bc55-0242ac130003/repositories/9b4f2a96-0da0-4d2c-8b14-595c2ddcecc1/commits/976b4f7d-0ebd-44ce-999c-b1e2b2b32343', owner_id='a17c0049-043e-4730-aa5c-30c75a1914fc', repository_id='9b4f2a96-0da0-4d2c-8b14-595c2ddcecc1', kf_serving_id=None, public_url=None, id='68360aaa-5994-433f-be04-488a68b70aa0', created_at='2021-02-19T12:57:34.932Z', updated_at='2021-02-19T12:57:34.932Z')"
      ]
     },
     "metadata": {},
     "execution_count": 6
    }
   ],
   "source": [
    "import tensorflow as tf\n",
    "from tensorflow.keras.layers import Conv2D, Dense, Dropout, Flatten, MaxPooling2D, Input\n",
    "from tensorflow.keras.models import Model\n",
    "from tensorflow.keras.utils import to_categorical\n",
    "import numpy as np\n",
    "# from alibi.explainers import AnchorImage\n",
    "\n",
    "(x_train, y_train), (x_test, y_test) = tf.keras.datasets.fashion_mnist.load_data()\n",
    "x_train = x_train.astype('float32') / 255\n",
    "x_test = x_test.astype('float32') / 255\n",
    "x_train = np.reshape(x_train, x_train.shape + (1,))\n",
    "x_test = np.reshape(x_test, x_test.shape + (1,))\n",
    "\n",
    "y_train = to_categorical(y_train)\n",
    "y_test = to_categorical(y_test)\n",
    "\n",
    "def model():\n",
    "    x_in = Input(shape=(28, 28, 1))\n",
    "    x = Conv2D(filters=64, kernel_size=2, padding='same', activation='relu')(x_in)\n",
    "    x = MaxPooling2D(pool_size=2)(x)\n",
    "    x = Dropout(0.3)(x)\n",
    "    \n",
    "    x = Conv2D(filters=32, kernel_size=2, padding='same', activation='relu')(x)\n",
    "    x = MaxPooling2D(pool_size=2)(x)\n",
    "    x = Dropout(0.3)(x)\n",
    "    \n",
    "    x = Flatten()(x)\n",
    "    x = Dense(256, activation='relu')(x)\n",
    "    x = Dropout(0.5)(x)\n",
    "    x_out = Dense(10, activation='softmax')(x)\n",
    "    \n",
    "    cnn = Model(inputs=x_in, outputs=x_out)\n",
    "    cnn.compile(loss='categorical_crossentropy', optimizer='adam', metrics=['accuracy'])\n",
    "    \n",
    "    return cnn\n",
    "\n",
    "cnn = model()\n",
    "cnn.fit(x_train, y_train, batch_size=64, epochs=3)\n",
    "\n",
    "# def superpixel(image, size=(4, 7)):\n",
    "#     segments = np.zeros([image.shape[0], image.shape[1]])\n",
    "#     row_idx, col_idx = np.where(segments == 0)\n",
    "#     for i, j in zip(row_idx, col_idx):\n",
    "#         segments[i, j] = int((image.shape[1]/size[1]) * (i//size[0]) + j//size[1])\n",
    "#     return segments\n",
    "\n",
    "# predict_fn = lambda x: cnn.predict(x)\n",
    "# image_shape = x_train[idx].shape\n",
    "\n",
    "# explainer = AnchorImage(predict_fn, image_shape, segmentation_fn=superpixel)\n",
    "\n",
    "deploy_options = {\n",
    "    'model': cnn, \n",
    "    'options': DeployOptions(**{\n",
    "        'name': 'client test tensorflow alibi',\n",
    "        'model_serverless': False,\n",
    "        'explainer_serverless': False,\n",
    "        'description': 'the first test',\n",
    "    }),\n",
    "    'overwrite': True,\n",
    "    # 'explainer': explainer,\n",
    "}\n",
    "client.deploy(**deploy_options)"
   ]
  },
  {
   "cell_type": "code",
   "execution_count": 8,
   "metadata": {},
   "outputs": [
    {
     "output_type": "stream",
     "name": "stdout",
     "text": [
      "['tensorflow.python.keras.engine.functional.Functional', 'tensorflow.python.keras.engine.training.Model', 'tensorflow.python.keras.engine.base_layer.Layer', 'tensorflow.python.module.module.Module', 'tensorflow.python.training.tracking.tracking.AutoTrackable', 'tensorflow.python.training.tracking.base.Trackable', 'tensorflow.python.keras.utils.version_utils.LayerVersionSelector', 'tensorflow.python.keras.utils.version_utils.ModelVersionSelector', 'builtins.object']\n"
     ]
    }
   ],
   "source": [
    "import inspect\n",
    "\n",
    "base_classes = list(map(lambda x: x.__module__ + '.' +\n",
    "                                x.__name__, inspect.getmro(type(cnn))))\n",
    "print(base_classes)"
   ]
  },
  {
   "cell_type": "code",
   "execution_count": 4,
   "metadata": {},
   "outputs": [
    {
     "output_type": "error",
     "ename": "NameError",
     "evalue": "name '__dir__' is not defined",
     "traceback": [
      "\u001b[0;31m---------------------------------------------------------------------------\u001b[0m",
      "\u001b[0;31mNameError\u001b[0m                                 Traceback (most recent call last)",
      "\u001b[0;32m<ipython-input-4-5f9e628dc385>\u001b[0m in \u001b[0;36m<module>\u001b[0;34m\u001b[0m\n\u001b[0;32m----> 1\u001b[0;31m \u001b[0mprint\u001b[0m\u001b[0;34m(\u001b[0m\u001b[0m__dir__\u001b[0m\u001b[0;34m)\u001b[0m\u001b[0;34m\u001b[0m\u001b[0;34m\u001b[0m\u001b[0m\n\u001b[0m",
      "\u001b[0;31mNameError\u001b[0m: name '__dir__' is not defined"
     ]
    }
   ],
   "source": []
  },
  {
   "cell_type": "code",
   "execution_count": null,
   "metadata": {},
   "outputs": [],
   "source": []
  }
 ]
}